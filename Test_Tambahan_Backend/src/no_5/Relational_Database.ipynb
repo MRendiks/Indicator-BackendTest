{
 "cells": [
  {
   "cell_type": "markdown",
   "metadata": {},
   "source": [
    "# Relational Database"
   ]
  },
  {
   "cell_type": "markdown",
   "metadata": {},
   "source": [
    "## a. Import Library"
   ]
  },
  {
   "cell_type": "code",
   "execution_count": 19,
   "metadata": {},
   "outputs": [],
   "source": [
    "import mysql.connector\n",
    "import pandas as pd"
   ]
  },
  {
   "cell_type": "markdown",
   "metadata": {},
   "source": [
    "## b. Connect to database"
   ]
  },
  {
   "cell_type": "code",
   "execution_count": 118,
   "metadata": {},
   "outputs": [],
   "source": [
    "connection = mysql.connector.connect(\n",
    "    host='localhost',\n",
    "    user='root',\n",
    "    password='',\n",
    "    database='db_test_movie'\n",
    ")"
   ]
  },
  {
   "cell_type": "markdown",
   "metadata": {},
   "source": [
    "## c. Create Table"
   ]
  },
  {
   "cell_type": "markdown",
   "metadata": {},
   "source": [
    "Tabel Sutradara"
   ]
  },
  {
   "cell_type": "code",
   "execution_count": 104,
   "metadata": {},
   "outputs": [
    {
     "name": "stdout",
     "output_type": "stream",
     "text": [
      "Query executed successfully.\n"
     ]
    }
   ],
   "source": [
    "# Create Table \n",
    "cursor = connection.cursor()\n",
    "try:\n",
    "    query = \"\"\"\n",
    "    CREATE OR REPLACE TABLE sutradara(\n",
    "        Directors_id INT AUTO_INCREMENT PRIMARY KEY,\n",
    "        Name_directors VARCHAR(300)\n",
    "    )\n",
    "    \"\"\"\n",
    "    cursor.execute(query)\n",
    "    connection.commit()\n",
    "    print(\"Query executed successfully.\")\n",
    "except mysql.connector.Error as err:\n",
    "    print(f\"Error: {err}\")"
   ]
  },
  {
   "cell_type": "markdown",
   "metadata": {},
   "source": [
    "Tabel Film"
   ]
  },
  {
   "cell_type": "code",
   "execution_count": 105,
   "metadata": {},
   "outputs": [
    {
     "name": "stdout",
     "output_type": "stream",
     "text": [
      "Query executed successfully.\n"
     ]
    }
   ],
   "source": [
    "# Create Table \n",
    "cursor = connection.cursor()\n",
    "try:\n",
    "    query = \"\"\"\n",
    "    CREATE OR REPLACE TABLE film(\n",
    "        Movie_id INT AUTO_INCREMENT PRIMARY KEY,\n",
    "        Directors_id INT,\n",
    "        Title VARCHAR(255),\n",
    "        Rating FLOAT,\n",
    "        Year INT(4),\n",
    "        Month VARCHAR(20),\n",
    "        Certificate VARCHAR(10),\n",
    "        Runtime INT(4),\n",
    "        Genre VARCHAR(50),\n",
    "        Filming_location VARCHAR(300),\n",
    "        Budget INT,\n",
    "        Income INT,\n",
    "        Country_of_origin VARCHAR(255),\n",
    "        \n",
    "        FOREIGN KEY(Directors_id) REFERENCES sutradara(Directors_id)\n",
    "    )\n",
    "    \"\"\"\n",
    "    cursor.execute(query)\n",
    "    connection.commit()\n",
    "    print(\"Query executed successfully.\")\n",
    "except mysql.connector.Error as err:\n",
    "    print(f\"Error: {err}\")"
   ]
  },
  {
   "cell_type": "markdown",
   "metadata": {},
   "source": [
    "Tabel Pemeran Film"
   ]
  },
  {
   "cell_type": "code",
   "execution_count": 106,
   "metadata": {},
   "outputs": [
    {
     "name": "stdout",
     "output_type": "stream",
     "text": [
      "Query executed successfully.\n"
     ]
    }
   ],
   "source": [
    "# Create Table \n",
    "cursor = connection.cursor()\n",
    "try:\n",
    "    query = \"\"\"\n",
    "    CREATE OR REPLACE TABLE pemeran_film(\n",
    "        Stars_id INT AUTO_INCREMENT PRIMARY KEY,\n",
    "        Name_stars VARCHAR(300)\n",
    "    )\n",
    "    \"\"\"\n",
    "    cursor.execute(query)\n",
    "    connection.commit()\n",
    "    print(\"Query executed successfully.\")\n",
    "except mysql.connector.Error as err:\n",
    "    print(f\"Error: {err}\")"
   ]
  },
  {
   "cell_type": "markdown",
   "metadata": {},
   "source": [
    "Tabel Detail Pemeran Film"
   ]
  },
  {
   "cell_type": "code",
   "execution_count": 159,
   "metadata": {},
   "outputs": [
    {
     "name": "stdout",
     "output_type": "stream",
     "text": [
      "Query executed successfully.\n"
     ]
    }
   ],
   "source": [
    "# Create Table \n",
    "cursor = connection.cursor()\n",
    "try:\n",
    "    query = \"\"\"\n",
    "    CREATE OR REPLACE TABLE detail_cast_film(\n",
    "        Detail_id INT AUTO_INCREMENT PRIMARY KEY,\n",
    "        Stars_id INT,\n",
    "        Movie_id INT,\n",
    "        \n",
    "        CONSTRAINT fk_pemeran\n",
    "            FOREIGN KEY(Stars_id) REFERENCES pemeran_film(Stars_id),\n",
    "        CONSTRAINT fk_film\n",
    "            FOREIGN KEY(Movie_id) REFERENCES film(Movie_id)\n",
    "        \n",
    "    )\n",
    "    \"\"\"\n",
    "    cursor.execute(query)\n",
    "    connection.commit()\n",
    "    cursor.close()\n",
    "    print(\"Query executed successfully.\")\n",
    "except mysql.connector.Error as err:\n",
    "    print(f\"Error: {err}\")"
   ]
  },
  {
   "cell_type": "markdown",
   "metadata": {},
   "source": [
    "## d. Insert Data into Table"
   ]
  },
  {
   "cell_type": "markdown",
   "metadata": {},
   "source": [
    "create select function"
   ]
  },
  {
   "cell_type": "code",
   "execution_count": 115,
   "metadata": {},
   "outputs": [],
   "source": [
    "def select(db, table, columns, condition):\n",
    "    try:\n",
    "        if db.is_connected():\n",
    "            cursor = db.cursor()\n",
    "            query = f\"SELECT {columns} FROM {table} {condition}\"\n",
    "            cursor.execute(query)\n",
    "            result = cursor.fetchall()\n",
    "            column_names = [column[0] for column in cursor.description]\n",
    "            cursor.close()\n",
    "            return result, column_names\n",
    "    except mysql.connector.Error as err:\n",
    "        print(f\"Error: {err}\")"
   ]
  },
  {
   "cell_type": "markdown",
   "metadata": {},
   "source": [
    "create function insert"
   ]
  },
  {
   "cell_type": "code",
   "execution_count": 161,
   "metadata": {},
   "outputs": [],
   "source": [
    "def insert(db, table, columns, data):\n",
    "    try:\n",
    "        if db.is_connected():\n",
    "            if(table == \"detail_cast_film\"):\n",
    "                cursor = db.cursor()\n",
    "                insert_query = f\"INSERT INTO {table} ({columns}) VALUES ({'%s, %s'})\"\n",
    "                cursor.executemany(insert_query, data)\n",
    "                db.commit()\n",
    "                cursor.close()\n",
    "                print(\"Insert Data Success\")\n",
    "            elif isinstance(data, list):\n",
    "                cursor = db.cursor()\n",
    "                insert_query = f\"INSERT INTO {table} ({columns}) VALUES ({'%s'})\"\n",
    "                values_list = [(item,) for item in data]\n",
    "                cursor.executemany(insert_query, values_list)\n",
    "                db.commit()\n",
    "                cursor.close()\n",
    "                print(\"Insert Data Success\")\n",
    "            else:\n",
    "                cursor = db.cursor()\n",
    "                insert_query = f\"INSERT INTO {table} ({', '.join(columns)}) VALUES ({', '.join(['%s'] * len(columns))})\"\n",
    "                values_list = [tuple(row) for row in data.values]\n",
    "                cursor.executemany(insert_query, values_list)\n",
    "                db.commit()\n",
    "                cursor.close()\n",
    "                print(\"Insert Data Success\")\n",
    "    except mysql.connector.Error as err:\n",
    "        print(f\"Error: {err}\")"
   ]
  },
  {
   "cell_type": "code",
   "execution_count": 175,
   "metadata": {},
   "outputs": [],
   "source": [
    "def select(db, table, columns, condition):\n",
    "    try:\n",
    "        if db.is_connected():\n",
    "            cursor = db.cursor()\n",
    "            query = f\"SELECT {columns} FROM {table} {condition}\"\n",
    "            cursor.execute(query)\n",
    "            result = cursor.fetchall()\n",
    "            column_names = [column[0] for column in cursor.description]\n",
    "            cursor.close()\n",
    "            return result, column_names\n",
    "    except mysql.connector.Error as err:\n",
    "        print(f\"Error: {err}\")"
   ]
  },
  {
   "cell_type": "markdown",
   "metadata": {},
   "source": [
    "Get Data From Movie"
   ]
  },
  {
   "cell_type": "code",
   "execution_count": 121,
   "metadata": {},
   "outputs": [
    {
     "name": "stdout",
     "output_type": "stream",
     "text": [
      "      movie_id                                       Title  Rating  Year  \\\n",
      "0            1                    Avatar: The Way of Water     7.8  2022   \n",
      "1            2              Guillermo del Toro's Pinocchio     7.6  2022   \n",
      "2            3                                Bullet Train     7.3  2022   \n",
      "3            4                                       M3gan     6.4  2022   \n",
      "4            5                                   Amsterdam     6.1  2022   \n",
      "...        ...                                         ...     ...   ...   \n",
      "1599      1600                       House of Sand and Fog     7.5  2003   \n",
      "1600      1601                                  In the Cut     5.4  2003   \n",
      "1601      1602  Lara Croft Tomb Raider: The Cradle of Life     5.5  2003   \n",
      "1602      1603                                     Gothika     5.8  2003   \n",
      "1603      1604                                  Open Water     5.8  2003   \n",
      "\n",
      "         Month Certificate  Runtime                           Directors  \\\n",
      "0     December       PG-13      192                       James Cameron   \n",
      "1     December          PG      117  Guillermo del Toro, Mark Gustafson   \n",
      "2       August           R      127                        David Leitch   \n",
      "3     December       PG-13      102                    Gerard Johnstone   \n",
      "4      October           R      134                     David O Russell   \n",
      "...        ...         ...      ...                                 ...   \n",
      "1599   January           R      126                      Vadim Perelman   \n",
      "1600   October           R      119                        Jane Campion   \n",
      "1601      July       PG-13      117                         Jan de Bont   \n",
      "1602  November           R       98                   Mathieu Kassovitz   \n",
      "1603    August           R       79                        Chris Kentis   \n",
      "\n",
      "                                                  Stars  \\\n",
      "0     Sam Worthington, Zoe Saldana, Sigourney Weaver...   \n",
      "1     Ewan McGregor, David Bradley, Gregory Mann, Bu...   \n",
      "2     Brad Pitt, Joey King, Aaron Taylor Johnson, Br...   \n",
      "3     Jenna Davis, Amie Donald, Allison Williams, Vi...   \n",
      "4     Christian Bale, Margot Robbie, John David Wash...   \n",
      "...                                                 ...   \n",
      "1599  Jennifer Connelly, Ben Kingsley, Ron Eldard, F...   \n",
      "1600  Meg Ryan, Mark Ruffalo, Jennifer Jason Leigh, ...   \n",
      "1601  Angelina Jolie, Gerard Butler, Chris Barrie, C...   \n",
      "1602  Halle Berry, Pen lope Cruz, Robert Downey Jr ,...   \n",
      "1603  Blanchard Ryan, Daniel Travis, Saul Stein, Mic...   \n",
      "\n",
      "                           Genre Filming_location     Budget      Income  \\\n",
      "0     Action, Adventure, Fantasy      New Zealand  350000000  2147483647   \n",
      "1       Animation, Drama, Family              USA   35000000      108967   \n",
      "2       Action, Comedy, Thriller            Japan   85900000   239268602   \n",
      "3       Horror, Sci-Fi, Thriller      New Zealand   12000000   171253910   \n",
      "4         Comedy, Drama, History              USA   80000000    31245810   \n",
      "...                          ...              ...        ...         ...   \n",
      "1599                Crime, Drama              USA   16500000    16763804   \n",
      "1600           Mystery, Thriller              USA   12000000    23726793   \n",
      "1601  Action, Adventure, Fantasy           Greece   95000000   160099222   \n",
      "1602   Horror, Mystery, Thriller           Canada   40000000   141591324   \n",
      "1603    Adventure, Drama, Horror          Bahamas     500000    54683487   \n",
      "\n",
      "                                      Country_of_origin  \n",
      "0                                         United States  \n",
      "1                         United States, Mexico, France  \n",
      "2                                  Japan, United States  \n",
      "3                                         United States  \n",
      "4                                  United States, Japan  \n",
      "...                                                 ...  \n",
      "1599                                      United States  \n",
      "1600   United Kingdom, Australia, France, United States  \n",
      "1601  United States, Germany, Japan, United Kingdom,...  \n",
      "1602               United States, France, Canada, Spain  \n",
      "1603                                      United States  \n",
      "\n",
      "[1604 rows x 14 columns]\n"
     ]
    }
   ],
   "source": [
    "try:\n",
    "    result, column_names = select(connection, \"movie\", \"*\", \"\")\n",
    "    # convert data from database into dataframe\n",
    "    data_movie = pd.DataFrame(result, columns=column_names)\n",
    "    print(data_movie)\n",
    "except mysql.connector.Error as err:\n",
    "    print(f\"Erro Select: {err}\")"
   ]
  },
  {
   "cell_type": "markdown",
   "metadata": {},
   "source": [
    "Insert Data to Table sutradara (data master)"
   ]
  },
  {
   "cell_type": "code",
   "execution_count": 110,
   "metadata": {},
   "outputs": [
    {
     "name": "stdout",
     "output_type": "stream",
     "text": [
      "Insert Data Success\n"
     ]
    }
   ],
   "source": [
    "try:\n",
    "    cursor = connection.cursor()\n",
    "    sutradara_list_data = data_movie[['Directors']]\n",
    "    sutradara_list_data = sutradara_list_data['Directors'].unique().tolist()\n",
    "    columns = \"Name_directors\"\n",
    "    insert(connection, 'sutradara', columns, sutradara_list_data)\n",
    "    cursor.close()\n",
    "except mysql.connector.Error as err:\n",
    "    print(f\"Erro Insert: {err}\")"
   ]
  },
  {
   "cell_type": "markdown",
   "metadata": {},
   "source": [
    "Insert Data Into Table Film"
   ]
  },
  {
   "cell_type": "code",
   "execution_count": 135,
   "metadata": {},
   "outputs": [
    {
     "name": "stdout",
     "output_type": "stream",
     "text": [
      "Insert Data Success\n"
     ]
    }
   ],
   "source": [
    "try:\n",
    "    \n",
    "    table = \"movie m\"\n",
    "    column = \"s.Directors_id, m.Title, m.Rating, m.Year, m.Month, m.Certificate, m.Runtime, m.Genre, m.Filming_location, m.Budget, m.Income, m.Country_of_origin\"\n",
    "    condition = \"JOIN sutradara s ON m.Directors = s.Name_directors\"\n",
    "    # Get Data Movie where same director\n",
    "    sutradara_data, column_names = select(connection, table, column, condition)\n",
    "    # Insert Data Film\n",
    "    sutradara_data = pd.DataFrame(result, columns=column_names)\n",
    "    insert(connection, 'film', column_names, sutradara_data)\n",
    "    \n",
    "except mysql.connector.Error as err:\n",
    "    print(f\"Erro Insert: {err}\")"
   ]
  },
  {
   "cell_type": "markdown",
   "metadata": {},
   "source": [
    "Insert Data Pemeran Film"
   ]
  },
  {
   "cell_type": "code",
   "execution_count": 144,
   "metadata": {},
   "outputs": [
    {
     "name": "stdout",
     "output_type": "stream",
     "text": [
      "Insert Data Success\n"
     ]
    }
   ],
   "source": [
    "try:\n",
    "    table = \"movie\"\n",
    "    column = \"Stars\"\n",
    "    condition = \"\"\n",
    "    # Get Data Stars\n",
    "    stars_data, column_names = select(connection, table, column, condition)\n",
    "    # make list names of stars\n",
    "    stars_names_list = [stars for row in stars_data for stars in row[0].split(', ')]\n",
    "    # Get Unique Data from list names of stars\n",
    "    unique_star_names = set(stars_names_list)\n",
    "    unique_star_names = list(unique_star_names)\n",
    "    # Insert Data Film\n",
    "    insert(connection, 'pemeran_film', \"Name_stars\", unique_star_names)\n",
    "    \n",
    "except mysql.connector.Error as err:\n",
    "    print(f\"Erro Insert: {err}\")"
   ]
  },
  {
   "cell_type": "markdown",
   "metadata": {},
   "source": [
    "Insert Data into Detail Cast Film"
   ]
  },
  {
   "cell_type": "code",
   "execution_count": 162,
   "metadata": {},
   "outputs": [
    {
     "name": "stdout",
     "output_type": "stream",
     "text": [
      "Insert Data Success\n"
     ]
    }
   ],
   "source": [
    "try:\n",
    "    # Retrieve data Stars from the movie table\n",
    "    table = \"movie\"\n",
    "    column = \"movie_id, Stars\"\n",
    "    condition = \"\"\n",
    "    movie_casts_data, movie_casts_column = select(connection, table, column, condition)\n",
    "    # Retrieve data from the pemeran film table\n",
    "    table = \"pemeran_film\"\n",
    "    column = \"Stars_id, Name_stars\"\n",
    "    condition = \"\"\n",
    "    pf_casts_data, pf_casts_column = select(connection, table, column, condition)\n",
    "    # Prepare a dictionary to map cast names to cast_id values\n",
    "    cast_name_to_id = {cast_name: cast_id for cast_id, cast_name in pf_casts_data}\n",
    "    # Insert Data to Film Cast Detail Table\n",
    "    table = \"detail_cast_film\"\n",
    "    column = \"Stars_id, Movie_id\"\n",
    "    data_to_insert = [(cast_name_to_id[cast_name], movie_id) for movie_id, casts in movie_casts_data for cast_name in casts.split(', ')]\n",
    "    insert(connection, table, column, data_to_insert)\n",
    "    \n",
    "except mysql.connector.Error as err:\n",
    "    print(f\"Erro Insert: {err}\")"
   ]
  },
  {
   "cell_type": "markdown",
   "metadata": {},
   "source": [
    "## e. Performing Analytic Data"
   ]
  },
  {
   "cell_type": "markdown",
   "metadata": {},
   "source": [
    "i. Grouping data tersebut berdasarkan sertifikasi film"
   ]
  },
  {
   "cell_type": "code",
   "execution_count": 163,
   "metadata": {},
   "outputs": [
    {
     "name": "stdout",
     "output_type": "stream",
     "text": [
      "  Certificate  jumlah_film\n",
      "0           G           18\n",
      "1       NC-17            4\n",
      "2   Not Rated           28\n",
      "3          PG          165\n",
      "4       PG-13          656\n",
      "5           R          724\n",
      "6       TV-14            1\n",
      "7       TV-MA            7\n",
      "8     Unrated            1\n"
     ]
    }
   ],
   "source": [
    "try:\n",
    "    table = \"film\"\n",
    "    columns = \"Certificate, COUNT(*) as jumlah_film\"\n",
    "    condition = \"GROUP BY Certificate\"\n",
    "    result, column_names = select(connection, table, columns, condition)\n",
    "    # convert data from database into dataframe\n",
    "    grouping_certificate_data = pd.DataFrame(result, columns=column_names)\n",
    "    print(grouping_certificate_data)\n",
    "except mysql.connector.Error as err:\n",
    "    print(f\"Erro Select: {err}\")"
   ]
  },
  {
   "cell_type": "markdown",
   "metadata": {},
   "source": [
    "ii. Tampilkan sutradara yang telah menyutradarai lebih dari 1 film dan film-film tersebut\n",
    "memiliki rating diatas 7.5"
   ]
  },
  {
   "cell_type": "code",
   "execution_count": 164,
   "metadata": {},
   "outputs": [
    {
     "name": "stdout",
     "output_type": "stream",
     "text": [
      "              Name_directors\n",
      "0        Alejandro G I rritu\n",
      "1             Alfonso Cuar n\n",
      "2                    Ang Lee\n",
      "3   Anthony Russo, Joe Russo\n",
      "4                Ben Affleck\n",
      "5               Bong Joon Ho\n",
      "6                  Brad Bird\n",
      "7               Bryan Singer\n",
      "8          Christopher Nolan\n",
      "9             Clint Eastwood\n",
      "10           Damien Chazelle\n",
      "11          Darren Aronofsky\n",
      "12             David Fincher\n",
      "13           David O Russell\n",
      "14               David Yates\n",
      "15          Denis Villeneuve\n",
      "16              Edgar Wright\n",
      "17              Edward Zwick\n",
      "18     Ethan Coen, Joel Coen\n",
      "19          Gabriele Muccino\n",
      "20               Guy Ritchie\n",
      "21                J J Abrams\n",
      "22             James Cameron\n",
      "23                James Gunn\n",
      "24             James Mangold\n",
      "25                Joe Wright\n",
      "26           Joseph Kosinski\n",
      "27               Joss Whedon\n",
      "28              Marc Forster\n",
      "29                 Marc Webb\n",
      "30           Martin McDonagh\n",
      "31           Martin Scorsese\n",
      "32               Matt Reeves\n",
      "33            Matthew Vaughn\n",
      "34                Mel Gibson\n",
      "35            Park Chan wook\n",
      "36           Paul Greengrass\n",
      "37             Peter Jackson\n",
      "38         Quentin Tarantino\n",
      "39              Rian Johnson\n",
      "40            Richard Curtis\n",
      "41         Richard Linklater\n",
      "42              Ridley Scott\n",
      "43                Ron Howard\n",
      "44             S S Rajamouli\n",
      "45                Sam Mendes\n",
      "46             Shane Meadows\n",
      "47           Stephen Chbosky\n",
      "48          Steven Spielberg\n",
      "49             Taika Waititi\n",
      "50             Todd Phillips\n",
      "51              Tom McCarthy\n",
      "52              Wes Anderson\n",
      "53               Woody Allen\n",
      "54               Zack Snyder\n"
     ]
    }
   ],
   "source": [
    "try:\n",
    "    table = \"film f\"\n",
    "    columns = \"s.Name_directors\"\n",
    "    condition = \"JOIN sutradara s ON f.Directors_id = s.Directors_id WHERE f.Rating > 7.5 GROUP BY s.Name_directors HAVING COUNT(*) > 1\"\n",
    "    result, column_names = select(connection, table, columns, condition)\n",
    "    # convert data from database into dataframe\n",
    "    directors_data = pd.DataFrame(result, columns=column_names)\n",
    "    print(directors_data)\n",
    "except mysql.connector.Error as err:\n",
    "    print(f\"Erro Select: {err}\")"
   ]
  },
  {
   "cell_type": "markdown",
   "metadata": {},
   "source": [
    "iii. Tampilkan film apa saja yang meraih keuntungan dalam produksi nya"
   ]
  },
  {
   "cell_type": "code",
   "execution_count": 165,
   "metadata": {},
   "outputs": [
    {
     "name": "stdout",
     "output_type": "stream",
     "text": [
      "                                           Title\n",
      "0                       Avatar: The Way of Water\n",
      "1                                   Bullet Train\n",
      "2                                          M3gan\n",
      "3                                  Violent Night\n",
      "4                                      The Whale\n",
      "...                                          ...\n",
      "1347                       House of Sand and Fog\n",
      "1348                                  In the Cut\n",
      "1349  Lara Croft Tomb Raider: The Cradle of Life\n",
      "1350                                     Gothika\n",
      "1351                                  Open Water\n",
      "\n",
      "[1352 rows x 1 columns]\n"
     ]
    }
   ],
   "source": [
    "try:\n",
    "    table = \"film\"\n",
    "    columns = \"Title\"\n",
    "    condition = \"WHERE Income > Budget\"\n",
    "    result, column_names = select(connection, table, columns, condition)\n",
    "    # convert data from database into dataframe\n",
    "    directors_data = pd.DataFrame(result, columns=column_names)\n",
    "    print(directors_data)\n",
    "except mysql.connector.Error as err:\n",
    "    print(f\"Erro Select: {err}\")"
   ]
  },
  {
   "cell_type": "markdown",
   "metadata": {},
   "source": [
    "iv. Bulan mana yang memiliki jumlah film yang diproduksi terbanyak"
   ]
  },
  {
   "cell_type": "code",
   "execution_count": 166,
   "metadata": {},
   "outputs": [
    {
     "name": "stdout",
     "output_type": "stream",
     "text": [
      "      Month\n",
      "0  November\n"
     ]
    }
   ],
   "source": [
    "try:\n",
    "    table = \"film\"\n",
    "    columns = \"Month\"\n",
    "    condition = \"GROUP BY Month ORDER BY COUNT(*) DESC LIMIT 1\"\n",
    "    result, column_names = select(connection, table, columns, condition)\n",
    "    # convert data from database into dataframe\n",
    "    directors_data = pd.DataFrame(result, columns=column_names)\n",
    "    print(directors_data)\n",
    "except mysql.connector.Error as err:\n",
    "    print(f\"Erro Select: {err}\")"
   ]
  },
  {
   "cell_type": "markdown",
   "metadata": {},
   "source": [
    "v. Sebutkan 5 film apa saja yang memiliki rating tertinggi untuk perbulannya (urutkan dari\n",
    "rating yang terkecil ke yang terbesar)"
   ]
  },
  {
   "cell_type": "code",
   "execution_count": 176,
   "metadata": {},
   "outputs": [
    {
     "name": "stdout",
     "output_type": "stream",
     "text": [
      "                  Title     Month  Rating\n",
      "0        Shutter Island  February     8.2\n",
      "1  Inglourious Basterds    August     8.3\n",
      "2              The Hunt   January     8.3\n",
      "3               WALLÂ·E      June     8.4\n",
      "4   The Lives of Others     March     8.4\n"
     ]
    }
   ],
   "source": [
    "try:\n",
    "    table = \"( SELECT *, ROW_NUMBER() OVER (PARTITION BY Month ORDER BY Rating DESC) AS rn FROM film ) ranked \"\n",
    "    columns = \"Title, Month, Rating\"\n",
    "    condition = \"WHERE rn <= 5 GROUP BY Month ORDER BY Rating LIMIT 5\"\n",
    "    # print(type(table))\n",
    "    result, column_names = select(connection, table, columns, condition)\n",
    "    # convert data from database into dataframe\n",
    "    directors_data = pd.DataFrame(result, columns=column_names)\n",
    "    print(directors_data)\n",
    "except mysql.connector.Error as err:\n",
    "    print(f\"Erro Select: {err}\")"
   ]
  },
  {
   "cell_type": "code",
   "execution_count": null,
   "metadata": {},
   "outputs": [],
   "source": []
  }
 ],
 "metadata": {
  "kernelspec": {
   "display_name": "Python 3.11.0 64-bit",
   "language": "python",
   "name": "python3"
  },
  "language_info": {
   "codemirror_mode": {
    "name": "ipython",
    "version": 3
   },
   "file_extension": ".py",
   "mimetype": "text/x-python",
   "name": "python",
   "nbconvert_exporter": "python",
   "pygments_lexer": "ipython3",
   "version": "3.11.0"
  },
  "orig_nbformat": 4,
  "vscode": {
   "interpreter": {
    "hash": "c261aea317cc0286b3b3261fbba9abdec21eaa57589985bb7a274bf54d6cc0a7"
   }
  }
 },
 "nbformat": 4,
 "nbformat_minor": 2
}
